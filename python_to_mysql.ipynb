{
 "cells": [
  {
   "cell_type": "code",
   "execution_count": 13,
   "metadata": {},
   "outputs": [],
   "source": [
    "import mysql.connector"
   ]
  },
  {
   "cell_type": "code",
   "execution_count": 14,
   "metadata": {},
   "outputs": [],
   "source": [
    "# Replace the values below with your database credentials\n",
    "db_config = {\n",
    "    \"host\": \"localhost\",\n",
    "    \"user\": \"root\",\n",
    "    \"password\": \"Kamina1@\",\n",
    "}\n",
    "                "
   ]
  },
  {
   "cell_type": "code",
   "execution_count": 15,
   "metadata": {},
   "outputs": [
    {
     "name": "stdout",
     "output_type": "stream",
     "text": [
      "Connected to MySQL server!\n"
     ]
    }
   ],
   "source": [
    "# Establish a connection to the database server\n",
    "try:\n",
    "    conn = mysql.connector.connect(**db_config)\n",
    "    print(\"Connected to MySQL server!\")\n",
    "except mysql.connector.Error as err:\n",
    "    print(f\"Error: {err}\")\n",
    "    conn = None"
   ]
  },
  {
   "cell_type": "code",
   "execution_count": 17,
   "metadata": {},
   "outputs": [
    {
     "name": "stdout",
     "output_type": "stream",
     "text": [
      "Database created successfully!\n"
     ]
    }
   ],
   "source": [
    "if conn is not None:\n",
    "    cursor = conn.cursor()\n",
    "    cursor.execute(\"CREATE DATABASE my_database\")\n",
    "    print(\"Database created successfully!\")\n",
    "    cursor.close()\n",
    "    conn.close()\n",
    "else:\n",
    "    print(\"Unable to connect to MySQL server.\")"
   ]
  },
  {
   "cell_type": "code",
   "execution_count": 18,
   "metadata": {},
   "outputs": [],
   "source": [
    "db_config = {\n",
    "    \"host\": \"localhost\",\n",
    "    \"user\": \"root\",\n",
    "    \"password\": \"Kamina1@\",\n",
    "    \"database\": \"my_database\"\n",
    "}"
   ]
  },
  {
   "cell_type": "code",
   "execution_count": 19,
   "metadata": {},
   "outputs": [
    {
     "name": "stdout",
     "output_type": "stream",
     "text": [
      "Connected to MySQL server!\n"
     ]
    }
   ],
   "source": [
    "# Establish a connection to the database server\n",
    "try:\n",
    "    conn = mysql.connector.connect(**db_config)\n",
    "    print(\"Connected to MySQL server!\")\n",
    "except mysql.connector.Error as err:\n",
    "    print(f\"Error: {err}\")\n",
    "    conn = None"
   ]
  },
  {
   "cell_type": "code",
   "execution_count": 20,
   "metadata": {},
   "outputs": [],
   "source": [
    "import mysql.connector\n",
    "\n",
    "# Connect to the database\n",
    "mydb = mysql.connector.connect(\n",
    "  host=\"localhost\",\n",
    "  user=\"root\",\n",
    "  password=\"Kamina1@\",\n",
    "  database=\"my_database\"\n",
    ")\n",
    "\n",
    "# Create a cursor object\n",
    "mycursor = mydb.cursor()\n",
    "\n",
    "# Write the SQL query\n",
    "sql = \"CREATE TABLE my_table (id INT, name VARCHAR(255), age INT)\"\n",
    "\n",
    "# Execute the query\n",
    "mycursor.execute(sql)\n",
    "\n",
    "# Commit the changes to the database\n",
    "mydb.commit()\n",
    "\n",
    "# Close the cursor and database connection\n",
    "mycursor.close()\n",
    "mydb.close()"
   ]
  },
  {
   "cell_type": "code",
   "execution_count": 21,
   "metadata": {},
   "outputs": [
    {
     "name": "stdout",
     "output_type": "stream",
     "text": [
      "5 rows inserted successfully!\n"
     ]
    }
   ],
   "source": [
    "# Insert data into the table\n",
    "if conn is not None:\n",
    "    cursor = conn.cursor()\n",
    "    sql = \"INSERT INTO my_table (id, name, age) VALUES (%s, %s, %s)\"\n",
    "    values = [\n",
    "        (1, 'John', 25),\n",
    "        (2, 'Jane', 30),\n",
    "        (3, 'Mark', 40),\n",
    "        (4, 'Emily', 22),\n",
    "        (5, 'David', 35)\n",
    "    ]\n",
    "    cursor.executemany(sql, values)\n",
    "    conn.commit()\n",
    "    print(cursor.rowcount, \"rows inserted successfully!\")\n",
    "    cursor.close()\n",
    "    conn.close()\n",
    "else:\n",
    "    print(\"Unable to connect to MySQL server.\")"
   ]
  },
  {
   "cell_type": "code",
   "execution_count": 24,
   "metadata": {},
   "outputs": [
    {
     "name": "stdout",
     "output_type": "stream",
     "text": [
      "(1, 'John', 25)\n",
      "(2, 'Jane', 30)\n",
      "(3, 'Mark', 40)\n",
      "(4, 'Emily', 22)\n",
      "(5, 'David', 35)\n"
     ]
    }
   ],
   "source": [
    "import mysql.connector\n",
    "\n",
    "# Connect to the database\n",
    "mydb = mysql.connector.connect(\n",
    "  host=\"localhost\",\n",
    "  user=\"root\",\n",
    "  password=\"Kamina1@\",\n",
    "  database=\"my_database\"\n",
    ")\n",
    "\n",
    "# Create a cursor object\n",
    "mycursor = mydb.cursor()\n",
    "\n",
    "# Write the SQL query to select all data from my_table\n",
    "sql = \"SELECT * FROM my_table\"\n",
    "\n",
    "# Execute the query\n",
    "mycursor.execute(sql)\n",
    "\n",
    "# Fetch all the data from the query result\n",
    "result = mycursor.fetchall()\n",
    "\n",
    "# Print the result\n",
    "for row in result:\n",
    "  print(row)\n",
    "\n",
    "# Close the cursor and database connection\n",
    "mycursor.close()\n",
    "mydb.close()"
   ]
  },
  {
   "cell_type": "code",
   "execution_count": null,
   "metadata": {},
   "outputs": [],
   "source": []
  }
 ],
 "metadata": {
  "kernelspec": {
   "display_name": "Python 3",
   "language": "python",
   "name": "python3"
  },
  "language_info": {
   "codemirror_mode": {
    "name": "ipython",
    "version": 3
   },
   "file_extension": ".py",
   "mimetype": "text/x-python",
   "name": "python",
   "nbconvert_exporter": "python",
   "pygments_lexer": "ipython3",
   "version": "3.11.2"
  },
  "orig_nbformat": 4
 },
 "nbformat": 4,
 "nbformat_minor": 2
}
